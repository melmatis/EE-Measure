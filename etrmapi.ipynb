{
 "cells": [
  {
   "cell_type": "code",
   "execution_count": 1,
   "id": "4d8df9f4",
   "metadata": {},
   "outputs": [],
   "source": [
    "import os, requests, json\n",
    "import pandas as pd"
   ]
  },
  {
   "cell_type": "code",
   "execution_count": 2,
   "id": "9e5f3ff5",
   "metadata": {},
   "outputs": [
    {
     "name": "stdout",
     "output_type": "stream",
     "text": [
      "\n"
     ]
    }
   ],
   "source": [
    "BASE_URL = \"https://www.caetrm.com/api/v1/measures/\"\n",
    "TOKEN    = os.getenv(\"CAE_TRM_TOKEN\")   # pulled from the env\n",
    "\n",
    "print(TOKEN)       # ← prints the actual token, or 'None' if it isn’t set"
   ]
  },
  {
   "cell_type": "code",
   "execution_count": 3,
   "id": "ccc1145c",
   "metadata": {},
   "outputs": [],
   "source": [
    "hdrs = {\"Authorization\": f\"Token {TOKEN}\"}\n",
    "resp = requests.get(BASE_URL, headers=hdrs, timeout=30) #get measures"
   ]
  },
  {
   "cell_type": "code",
   "execution_count": 4,
   "id": "60a83e44",
   "metadata": {},
   "outputs": [
    {
     "name": "stdout",
     "output_type": "stream",
     "text": [
      "Top-level keys: dict_keys(['count', 'next', 'previous', 'results'])\n",
      "Total records: 274\n"
     ]
    }
   ],
   "source": [
    "# --- basic error handling ---\n",
    "resp.raise_for_status()        # throws for 4xx / 5xx; same as R’s stop_for_status\n",
    "payload = resp.json()          # dict (already decoded from UTF-8)\n",
    "\n",
    "print(\"Top-level keys:\", payload.keys())\n",
    "print(\"Total records:\", payload[\"count\"])"
   ]
  },
  {
   "cell_type": "code",
   "execution_count": 5,
   "id": "0519c9c8",
   "metadata": {},
   "outputs": [
    {
     "name": "stdout",
     "output_type": "stream",
     "text": [
      "Requesting: https://www.caetrm.com/api/v1/measures/\n",
      "Requesting: limit=25&offset=25\n",
      "Requesting: limit=25&offset=50\n",
      "Requesting: limit=25&offset=75\n",
      "Requesting: limit=25&offset=100\n",
      "Requesting: limit=25&offset=125\n",
      "Requesting: limit=25&offset=150\n",
      "Requesting: limit=25&offset=175\n",
      "Requesting: limit=25&offset=200\n",
      "Requesting: limit=25&offset=225\n",
      "Requesting: limit=25&offset=250\n",
      "(274, 2)\n"
     ]
    },
    {
     "data": {
      "application/vnd.microsoft.datawrangler.viewer.v0+json": {
       "columns": [
        {
         "name": "index",
         "rawType": "int64",
         "type": "integer"
        },
        {
         "name": "name",
         "rawType": "object",
         "type": "string"
        },
        {
         "name": "url",
         "rawType": "object",
         "type": "string"
        }
       ],
       "ref": "a162232e-6535-4dbf-9985-f1d125701e62",
       "rows": [
        [
         "0",
         "Refrigerator, Residential",
         "https://www.caetrm.com/api/v1/measures/SWAP001/"
        ],
        [
         "1",
         "Refrigerator or Freezer Recycling",
         "https://www.caetrm.com/api/v1/measures/SWAP002/"
        ],
        [
         "2",
         "Clothes Dryer, Residential",
         "https://www.caetrm.com/api/v1/measures/SWAP003/"
        ],
        [
         "3",
         "Clothes Washer, Residential",
         "https://www.caetrm.com/api/v1/measures/SWAP004/"
        ],
        [
         "4",
         "Ozone Laundry, Commercial",
         "https://www.caetrm.com/api/v1/measures/SWAP005/"
        ]
       ],
       "shape": {
        "columns": 2,
        "rows": 5
       }
      },
      "text/html": [
       "<div>\n",
       "<style scoped>\n",
       "    .dataframe tbody tr th:only-of-type {\n",
       "        vertical-align: middle;\n",
       "    }\n",
       "\n",
       "    .dataframe tbody tr th {\n",
       "        vertical-align: top;\n",
       "    }\n",
       "\n",
       "    .dataframe thead th {\n",
       "        text-align: right;\n",
       "    }\n",
       "</style>\n",
       "<table border=\"1\" class=\"dataframe\">\n",
       "  <thead>\n",
       "    <tr style=\"text-align: right;\">\n",
       "      <th></th>\n",
       "      <th>name</th>\n",
       "      <th>url</th>\n",
       "    </tr>\n",
       "  </thead>\n",
       "  <tbody>\n",
       "    <tr>\n",
       "      <th>0</th>\n",
       "      <td>Refrigerator, Residential</td>\n",
       "      <td>https://www.caetrm.com/api/v1/measures/SWAP001/</td>\n",
       "    </tr>\n",
       "    <tr>\n",
       "      <th>1</th>\n",
       "      <td>Refrigerator or Freezer Recycling</td>\n",
       "      <td>https://www.caetrm.com/api/v1/measures/SWAP002/</td>\n",
       "    </tr>\n",
       "    <tr>\n",
       "      <th>2</th>\n",
       "      <td>Clothes Dryer, Residential</td>\n",
       "      <td>https://www.caetrm.com/api/v1/measures/SWAP003/</td>\n",
       "    </tr>\n",
       "    <tr>\n",
       "      <th>3</th>\n",
       "      <td>Clothes Washer, Residential</td>\n",
       "      <td>https://www.caetrm.com/api/v1/measures/SWAP004/</td>\n",
       "    </tr>\n",
       "    <tr>\n",
       "      <th>4</th>\n",
       "      <td>Ozone Laundry, Commercial</td>\n",
       "      <td>https://www.caetrm.com/api/v1/measures/SWAP005/</td>\n",
       "    </tr>\n",
       "  </tbody>\n",
       "</table>\n",
       "</div>"
      ],
      "text/plain": [
       "                                name  \\\n",
       "0          Refrigerator, Residential   \n",
       "1  Refrigerator or Freezer Recycling   \n",
       "2         Clothes Dryer, Residential   \n",
       "3        Clothes Washer, Residential   \n",
       "4          Ozone Laundry, Commercial   \n",
       "\n",
       "                                               url  \n",
       "0  https://www.caetrm.com/api/v1/measures/SWAP001/  \n",
       "1  https://www.caetrm.com/api/v1/measures/SWAP002/  \n",
       "2  https://www.caetrm.com/api/v1/measures/SWAP003/  \n",
       "3  https://www.caetrm.com/api/v1/measures/SWAP004/  \n",
       "4  https://www.caetrm.com/api/v1/measures/SWAP005/  "
      ]
     },
     "execution_count": 5,
     "metadata": {},
     "output_type": "execute_result"
    }
   ],
   "source": [
    "def fetch_all_measures(base_url=BASE_URL, headers=hdrs, verbose=False):\n",
    "    url   = base_url         # may get overwritten with ?page=N\n",
    "    frames = []\n",
    "\n",
    "    while url:\n",
    "        if verbose:\n",
    "            print(\"Requesting:\", url.split(\"?\")[-1] or \"<page 1>\")\n",
    "        r = requests.get(url, headers=headers, timeout=30)\n",
    "        r.raise_for_status()\n",
    "        data = r.json()\n",
    "\n",
    "        frames.append(pd.json_normalize(data[\"results\"]))\n",
    "        url = data[\"next\"]   # None when you reach the end\n",
    "\n",
    "    return pd.concat(frames, ignore_index=True)\n",
    "\n",
    "measures_df = fetch_all_measures(verbose=True)\n",
    "print(measures_df.shape)      # rows x columns\n",
    "measures_df.head()"
   ]
  },
  {
   "cell_type": "code",
   "execution_count": 10,
   "id": "96e75de7",
   "metadata": {},
   "outputs": [
    {
     "name": "stdout",
     "output_type": "stream",
     "text": [
      "Fetching https://www.caetrm.com/api/v1/measures/SWWH027/06/permutations\n",
      "Fetching https://www.caetrm.com/api/v1/measures/SWWH025/09/permutations\n"
     ]
    }
   ],
   "source": [
    "import requests\n",
    "import pandas as pd\n",
    "\n",
    "# ------------------------------------------------------------------\n",
    "# 1.  Put your measure codes in a plain Python list\n",
    "#     (equivalent to R's `as.list(Data_22$MeasureVersion)`).\n",
    "# ------------------------------------------------------------------\n",
    "codes = [\n",
    "    \"SWWH027/06\",\"SWWH025/09\",\n",
    "    # add the rest of your codes here …\n",
    "]\n",
    "\n",
    "# ------------------------------------------------------------------\n",
    "# 2.  Set up the authorization header once.\n",
    "# ------------------------------------------------------------------\n",
    "API_TOKEN = \"yourtokenhere\"\n",
    "HEADERS    = {\"Authorization\": f\"Token {API_TOKEN}\"}\n",
    "\n",
    "# ------------------------------------------------------------------\n",
    "# 3.  Loop through the codes, call the endpoint, and build DataFrames.\n",
    "# ------------------------------------------------------------------\n",
    "output_data = {}              # Python dict ≈ R list()\n",
    "\n",
    "for code in codes:\n",
    "    url = f\"https://www.caetrm.com/api/v1/measures/{code}/permutations\"\n",
    "    print(f\"Fetching {url}\")\n",
    "\n",
    "    resp = requests.get(url, headers=HEADERS, timeout=30)\n",
    "    resp.raise_for_status()   # throws if 4xx/5xx\n",
    "\n",
    "    payload       = resp.json()              # dict\n",
    "    rows          = payload[\"results\"]       # list of records\n",
    "    column_names  = payload[\"headers\"]       # list of header strings\n",
    "\n",
    "    df_measures = pd.DataFrame(rows, columns=column_names)\n",
    "    output_data[code] = df                   # stash in dict\n",
    "\n",
    "# ------------------------------------------------------------------\n",
    "# 4.  (Optional)  Combine every dataframe into one tidy table\n",
    "#     with `MeasureCode` as an index level.\n",
    "# ------------------------------------------------------------------\n",
    "# combined = pd.concat(output_data.values(),\n",
    "#                      keys=output_data.keys(),\n",
    "#                      names=[\"MeasureCode\"])\n"
   ]
  }
 ],
 "metadata": {
  "kernelspec": {
   "display_name": "Python 3",
   "language": "python",
   "name": "python3"
  },
  "language_info": {
   "codemirror_mode": {
    "name": "ipython",
    "version": 3
   },
   "file_extension": ".py",
   "mimetype": "text/x-python",
   "name": "python",
   "nbconvert_exporter": "python",
   "pygments_lexer": "ipython3",
   "version": "3.13.5"
  }
 },
 "nbformat": 4,
 "nbformat_minor": 5
}
